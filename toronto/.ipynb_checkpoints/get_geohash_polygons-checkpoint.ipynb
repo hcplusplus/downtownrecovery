{
 "cells": [
  {
   "cell_type": "code",
   "execution_count": null,
   "id": "96325651-df7e-4a85-bb04-bd6852976190",
   "metadata": {},
   "outputs": [],
   "source": [
    "# pip install polygon_geohasher"
   ]
  },
  {
   "cell_type": "code",
   "execution_count": 1,
   "id": "ec634970-1b7c-432e-9a74-0b71408228b2",
   "metadata": {},
   "outputs": [
    {
     "data": {
      "text/plain": [
       "['dpxrgv', 'dpxrgy', 'dpxrgz', 'dpz25b', 'dpz25c']"
      ]
     },
     "execution_count": 1,
     "metadata": {},
     "output_type": "execute_result"
    }
   ],
   "source": [
    "from polygon_geohasher.polygon_geohasher import geohash_to_polygon\n",
    "import pandas as pd\n",
    "import geopandas as gpd\n",
    "import matplotlib.pyplot as plt\n",
    "\n",
    "geohashes = pd.read_csv('/Users/jpg23/data/downtownrecovery/toronto/toronto_6digit_geohashes.csv')\n",
    "\n",
    "geo_list = geohashes['geohashid'].tolist()\n",
    "geo_list[:5]"
   ]
  },
  {
   "cell_type": "code",
   "execution_count": 2,
   "id": "95ef8f08-56e2-4bd3-aece-439119870703",
   "metadata": {},
   "outputs": [],
   "source": [
    "# Convert each geohash to a polygon and store in a list\n",
    "polygons = [geohash_to_polygon(gh) for gh in geo_list]\n",
    "\n",
    "geo_poly = [{'geohash_id': gh, 'geometry': geohash_to_polygon(gh)} for gh in geo_list]"
   ]
  },
  {
   "cell_type": "code",
   "execution_count": 3,
   "id": "b9f28e6c-cce6-4a3d-873e-98e384b08ebb",
   "metadata": {},
   "outputs": [],
   "source": [
    "# Create a GeoDataFrame from the list of polygons\n",
    "gdf = gpd.GeoDataFrame(geo_poly).set_crs(4326)"
   ]
  },
  {
   "cell_type": "code",
   "execution_count": 4,
   "id": "7dac36dc-2495-4576-bef3-b3dd3946d95b",
   "metadata": {},
   "outputs": [
    {
     "data": {
      "text/html": [
       "<div>\n",
       "<style scoped>\n",
       "    .dataframe tbody tr th:only-of-type {\n",
       "        vertical-align: middle;\n",
       "    }\n",
       "\n",
       "    .dataframe tbody tr th {\n",
       "        vertical-align: top;\n",
       "    }\n",
       "\n",
       "    .dataframe thead th {\n",
       "        text-align: right;\n",
       "    }\n",
       "</style>\n",
       "<table border=\"1\" class=\"dataframe\">\n",
       "  <thead>\n",
       "    <tr style=\"text-align: right;\">\n",
       "      <th></th>\n",
       "      <th>geohash_id</th>\n",
       "      <th>geometry</th>\n",
       "    </tr>\n",
       "  </thead>\n",
       "  <tbody>\n",
       "    <tr>\n",
       "      <th>0</th>\n",
       "      <td>dpxrgv</td>\n",
       "      <td>POLYGON ((-79.63989 43.57727, -79.62891 43.577...</td>\n",
       "    </tr>\n",
       "    <tr>\n",
       "      <th>1</th>\n",
       "      <td>dpxrgy</td>\n",
       "      <td>POLYGON ((-79.63989 43.58276, -79.62891 43.582...</td>\n",
       "    </tr>\n",
       "    <tr>\n",
       "      <th>2</th>\n",
       "      <td>dpxrgz</td>\n",
       "      <td>POLYGON ((-79.63989 43.58826, -79.62891 43.588...</td>\n",
       "    </tr>\n",
       "    <tr>\n",
       "      <th>3</th>\n",
       "      <td>dpz25b</td>\n",
       "      <td>POLYGON ((-79.63989 43.59375, -79.62891 43.593...</td>\n",
       "    </tr>\n",
       "    <tr>\n",
       "      <th>4</th>\n",
       "      <td>dpz25c</td>\n",
       "      <td>POLYGON ((-79.63989 43.59924, -79.62891 43.599...</td>\n",
       "    </tr>\n",
       "    <tr>\n",
       "      <th>...</th>\n",
       "      <td>...</td>\n",
       "      <td>...</td>\n",
       "    </tr>\n",
       "    <tr>\n",
       "      <th>2494</th>\n",
       "      <td>dpz9rg</td>\n",
       "      <td>POLYGON ((-79.11255 43.82996, -79.10156 43.829...</td>\n",
       "    </tr>\n",
       "    <tr>\n",
       "      <th>2495</th>\n",
       "      <td>dpz9ru</td>\n",
       "      <td>POLYGON ((-79.11255 43.83545, -79.10156 43.835...</td>\n",
       "    </tr>\n",
       "    <tr>\n",
       "      <th>2496</th>\n",
       "      <td>dpz9rv</td>\n",
       "      <td>POLYGON ((-79.11255 43.84094, -79.10156 43.840...</td>\n",
       "    </tr>\n",
       "    <tr>\n",
       "      <th>2497</th>\n",
       "      <td>dpz9ry</td>\n",
       "      <td>POLYGON ((-79.11255 43.84644, -79.10156 43.846...</td>\n",
       "    </tr>\n",
       "    <tr>\n",
       "      <th>2498</th>\n",
       "      <td>dpz9rz</td>\n",
       "      <td>POLYGON ((-79.11255 43.85193, -79.10156 43.851...</td>\n",
       "    </tr>\n",
       "  </tbody>\n",
       "</table>\n",
       "<p>2499 rows × 2 columns</p>\n",
       "</div>"
      ],
      "text/plain": [
       "     geohash_id                                           geometry\n",
       "0        dpxrgv  POLYGON ((-79.63989 43.57727, -79.62891 43.577...\n",
       "1        dpxrgy  POLYGON ((-79.63989 43.58276, -79.62891 43.582...\n",
       "2        dpxrgz  POLYGON ((-79.63989 43.58826, -79.62891 43.588...\n",
       "3        dpz25b  POLYGON ((-79.63989 43.59375, -79.62891 43.593...\n",
       "4        dpz25c  POLYGON ((-79.63989 43.59924, -79.62891 43.599...\n",
       "...         ...                                                ...\n",
       "2494     dpz9rg  POLYGON ((-79.11255 43.82996, -79.10156 43.829...\n",
       "2495     dpz9ru  POLYGON ((-79.11255 43.83545, -79.10156 43.835...\n",
       "2496     dpz9rv  POLYGON ((-79.11255 43.84094, -79.10156 43.840...\n",
       "2497     dpz9ry  POLYGON ((-79.11255 43.84644, -79.10156 43.846...\n",
       "2498     dpz9rz  POLYGON ((-79.11255 43.85193, -79.10156 43.851...\n",
       "\n",
       "[2499 rows x 2 columns]"
      ]
     },
     "execution_count": 4,
     "metadata": {},
     "output_type": "execute_result"
    }
   ],
   "source": [
    "gdf"
   ]
  },
  {
   "cell_type": "code",
   "execution_count": 5,
   "id": "76d465e3-b36d-4888-9ad0-787467b4ec63",
   "metadata": {},
   "outputs": [
    {
     "data": {
      "image/png": "[encoded data removed]",
      "text/plain": [
       "<Figure size 640x480 with 1 Axes>"
      ]
     },
     "metadata": {},
     "output_type": "display_data"
    }
   ],
   "source": [
    "gdf.plot(edgecolor=\"black\", facecolor=\"lightblue\")\n",
    "plt.xlabel(\"Longitude\")\n",
    "plt.ylabel(\"Latitude\")\n",
    "plt.title(\"Geohash Polygons\")\n",
    "plt.show()"
   ]
  },
  {
   "cell_type": "code",
   "execution_count": 6,
   "id": "1e7bef59-9bb7-46fb-8545-946ef779fcc5",
   "metadata": {},
   "outputs": [],
   "source": [
    "gdf.to_file('/Users/jpg23/data/downtownrecovery/toronto/toronto_6digit_geohashes.geojson', driver = 'GeoJSON')"
   ]
  }
 ],
 "metadata": {
  "kernelspec": {
   "display_name": "Python 3 (ipykernel)",
   "language": "python",
   "name": "python3"
  },
  "language_info": {
   "codemirror_mode": {
    "name": "ipython",
    "version": 3
   },
   "file_extension": ".py",
   "mimetype": "text/x-python",
   "name": "python",
   "nbconvert_exporter": "python",
   "pygments_lexer": "ipython3",
   "version": "3.12.4"
  }
 },
 "nbformat": 4,
 "nbformat_minor": 5
}
